{
 "cells": [
  {
   "cell_type": "code",
   "execution_count": 1,
   "metadata": {},
   "outputs": [],
   "source": [
    "from mlx_lm import load, generate"
   ]
  },
  {
   "cell_type": "code",
   "execution_count": 2,
   "metadata": {},
   "outputs": [
    {
     "data": {
      "application/vnd.jupyter.widget-view+json": {
       "model_id": "24b19589779d4ee7b78defd7786edd9c",
       "version_major": 2,
       "version_minor": 0
      },
      "text/plain": [
       "Fetching 11 files:   0%|          | 0/11 [00:00<?, ?it/s]"
      ]
     },
     "metadata": {},
     "output_type": "display_data"
    }
   ],
   "source": [
    "model, tokenizer = load(\"google/gemma-7b-it\")"
   ]
  },
  {
   "cell_type": "code",
   "execution_count": 3,
   "metadata": {},
   "outputs": [],
   "source": [
    "SYSTEM_PROMPT = '''You are very knowledgeable about computer science at St. Olaf College. You have a passion for helping answer computer science questions and troubleshoot issues for students. Your communication style is friendly, engaging, and informative, and you always strive to help students with their inquiries.\n",
    "\n",
    "If a student asks about topics outside your area of expertise, such as medical advice or legal matters, politely inform them that you are not qualified to provide guidance on those subjects and suggest they consult with the appropriate professionals. If a user becomes hostile or uses inappropriate language, maintain a calm and professional demeanor, and remind them of the purpose and boundaries of your role as a computer science assistant at St. Olaf College.\n",
    "'''"
   ]
  },
  {
   "cell_type": "code",
   "execution_count": 4,
   "metadata": {},
   "outputs": [
    {
     "name": "stdout",
     "output_type": "stream",
     "text": [
      "<bos><start_of_turn>user\n",
      "## Instructions\n",
      "You are very knowledgeable about computer science at St. Olaf College. You have a passion for helping answer computer science questions and troubleshoot issues for students. Your communication style is friendly, engaging, and informative, and you always strive to help students with their inquiries.\n",
      "\n",
      "If a student asks about topics outside your area of expertise, such as medical advice or legal matters, politely inform them that you are not qualified to provide guidance on those subjects and suggest they consult with the appropriate professionals. If a user becomes hostile or uses inappropriate language, maintain a calm and professional demeanor, and remind them of the purpose and boundaries of your role as a computer science assistant at St. Olaf College.\n",
      "\n",
      "## User\n",
      "What is SSH?<end_of_turn>\n",
      "<start_of_turn>model\n",
      "\n"
     ]
    }
   ],
   "source": [
    "def format_prompt(prompt, system_prompt = SYSTEM_PROMPT):\n",
    "\n",
    "    return \"\"\"<bos><start_of_turn>user\n",
    "## Instructions\n",
    "{}\n",
    "## User\n",
    "{}<end_of_turn>\n",
    "<start_of_turn>model\n",
    "\"\"\".format(system_prompt, prompt)\n",
    "\n",
    "print(format_prompt(\"What is SSH?\"))"
   ]
  },
  {
   "cell_type": "code",
   "execution_count": 5,
   "metadata": {},
   "outputs": [
    {
     "data": {
      "application/vnd.jupyter.widget-view+json": {
       "model_id": "89d80a68e1e64be4b8cb0d9ef93b595e",
       "version_major": 2,
       "version_minor": 0
      },
      "text/plain": [
       "Fetching 11 files:   0%|          | 0/11 [00:00<?, ?it/s]"
      ]
     },
     "metadata": {},
     "output_type": "display_data"
    }
   ],
   "source": [
    "model_lora, _ = load(\n",
    "    \"google/gemma-7b-it\",\n",
    "    adapter_file=\"./round5_adapters.npz\",  # adapters.npz is the final checkpoint saved at the end of training\n",
    ")"
   ]
  },
  {
   "cell_type": "code",
   "execution_count": 6,
   "metadata": {},
   "outputs": [],
   "source": [
    "def chatbot(user_prompt):\n",
    "    response = generate(\n",
    "        model_lora,\n",
    "        tokenizer,\n",
    "        prompt=format_prompt(user_prompt),\n",
    "        verbose=True,\n",
    "        temp=0.0,\n",
    "        max_tokens=256,\n",
    "    )\n",
    "    return response"
   ]
  },
  {
   "cell_type": "code",
   "execution_count": 12,
   "metadata": {},
   "outputs": [
    {
     "name": "stdout",
     "output_type": "stream",
     "text": [
      "==========\n",
      "Prompt: <bos><start_of_turn>user\n",
      "## Instructions\n",
      "You are very knowledgeable about computer science at St. Olaf College. You have a passion for helping answer computer science questions and troubleshoot issues for students. Your communication style is friendly, engaging, and informative, and you always strive to help students with their inquiries.\n",
      "\n",
      "If a student asks about topics outside your area of expertise, such as medical advice or legal matters, politely inform them that you are not qualified to provide guidance on those subjects and suggest they consult with the appropriate professionals. If a user becomes hostile or uses inappropriate language, maintain a calm and professional demeanor, and remind them of the purpose and boundaries of your role as a computer science assistant at St. Olaf College.\n",
      "\n",
      "## User\n",
      "What is a type error?<end_of_turn>\n",
      "<start_of_turn>model\n",
      "\n",
      "A TypeError is raised when an operation or function is called with an inappropriate datatype as an operand. This can happen when an integer or a string is used as an operand for a mathematical operation or when a function is called with the wrong type of arguments. For example, if the function sqrt(x) is called with x as an integer, a TypeError will be raised since sqrt(x) can only be called with a float as an argument. To fix a TypeError, make sure the correct data types are being used.<end_of_turn>\n",
      "==========\n",
      "Prompt: 283.610 tokens-per-sec\n",
      "Generation: 12.148 tokens-per-sec\n"
     ]
    },
    {
     "data": {
      "text/plain": [
       "'A TypeError is raised when an operation or function is called with an inappropriate datatype as an operand. This can happen when an integer or a string is used as an operand for a mathematical operation or when a function is called with the wrong type of arguments. For example, if the function sqrt(x) is called with x as an integer, a TypeError will be raised since sqrt(x) can only be called with a float as an argument. To fix a TypeError, make sure the correct data types are being used.<end_of_turn>'"
      ]
     },
     "execution_count": 12,
     "metadata": {},
     "output_type": "execute_result"
    }
   ],
   "source": [
    "chatbot(\"What is a type error?\")"
   ]
  }
 ],
 "metadata": {
  "kernelspec": {
   "display_name": "Python 3",
   "language": "python",
   "name": "python3"
  },
  "language_info": {
   "codemirror_mode": {
    "name": "ipython",
    "version": 3
   },
   "file_extension": ".py",
   "mimetype": "text/x-python",
   "name": "python",
   "nbconvert_exporter": "python",
   "pygments_lexer": "ipython3",
   "version": "3.11.7"
  }
 },
 "nbformat": 4,
 "nbformat_minor": 2
}
