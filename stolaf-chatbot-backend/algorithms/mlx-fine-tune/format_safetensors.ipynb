{
 "cells": [
  {
   "cell_type": "code",
   "execution_count": 1,
   "metadata": {},
   "outputs": [],
   "source": [
    "import mlx.core as mx"
   ]
  },
  {
   "cell_type": "code",
   "execution_count": 5,
   "metadata": {},
   "outputs": [],
   "source": [
    "# use mx.load() to load the safetensors\n",
    "tensors = mx.load(\n",
    "    \"round1_lora_fused_model/model-00003-of-00004.safetensors\",  # Change this path and run the cell, one by one for all .safetensors files\n",
    "    format=\"safetensors\",\n",
    ")\n",
    "mx.save_safetensors(\n",
    "    \"round1_lora_fused_model/model-00003-of-00004.safetensors\",\n",
    "    tensors,\n",
    "    metadata={\"format\": \"pt\"},\n",
    ")"
   ]
  }
 ],
 "metadata": {
  "kernelspec": {
   "display_name": "Python 3",
   "language": "python",
   "name": "python3"
  },
  "language_info": {
   "codemirror_mode": {
    "name": "ipython",
    "version": 3
   },
   "file_extension": ".py",
   "mimetype": "text/x-python",
   "name": "python",
   "nbconvert_exporter": "python",
   "pygments_lexer": "ipython3",
   "version": "3.11.7"
  }
 },
 "nbformat": 4,
 "nbformat_minor": 2
}
